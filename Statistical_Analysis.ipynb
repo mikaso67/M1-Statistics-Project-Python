{
 "cells": [
  {
   "cell_type": "code",
   "execution_count": 2,
   "id": "1b8ab6eb-8b00-471b-963b-17dd2ab07582",
   "metadata": {},
   "outputs": [],
   "source": [
    "import pandas as pds\n",
    "import numpy as np\n",
    "import os\n",
    "import matplotlib.pyplot as plt\n",
    "import statsmodels.api as sm\n",
    "import statsmodels.stats.multicomp as mc\n",
    "import scipy.stats as stats\n",
    "from statsmodels.formula.api import ols\n",
    "from scipy import stats\n",
    "from scipy.stats import f"
   ]
  },
  {
   "cell_type": "code",
   "execution_count": null,
   "id": "0f2a4137-42a5-40e3-8c47-49b289bd11fb",
   "metadata": {},
   "outputs": [],
   "source": [
    "#EXERCICE 1 :"
   ]
  },
  {
   "cell_type": "code",
   "execution_count": 3,
   "id": "3c923512-002b-4721-abbd-7469f8235212",
   "metadata": {},
   "outputs": [
    {
     "name": "stdout",
     "output_type": "stream",
     "text": [
      "[[592 119 849 504  36]\n",
      " [544  97 677 451  14]]\n"
     ]
    }
   ],
   "source": [
    "obs = np.array([[592, 119, 849, 504, 36],\n",
    "[544, 97, 677, 451, 14]])\n",
    "print(obs)"
   ]
  },
  {
   "cell_type": "code",
   "execution_count": 16,
   "id": "105618a4-34b7-4ac2-9dad-e91edec613c3",
   "metadata": {},
   "outputs": [
    {
     "name": "stdout",
     "output_type": "stream",
     "text": [
      "[[614.37033222 116.81689415 825.28972444 516.48210147  27.04094772]\n",
      " [521.62966778  99.18310585 700.71027556 438.51789853  22.95905228]]\n"
     ]
    }
   ],
   "source": [
    "chi2, p, dof, thq = stats.chi2_contingency(obs, correction=False)\n",
    "print(thq)"
   ]
  },
  {
   "cell_type": "code",
   "execution_count": 15,
   "id": "e3def89c-0863-462d-b599-be3c3f565e6f",
   "metadata": {},
   "outputs": [
    {
     "name": "stdout",
     "output_type": "stream",
     "text": [
      "La statistique de décision vaut 10.467448536455917 . Sous H0 elle suit une loi du Chi2 à 4 degrés de liberté. Ainsi la p-value est égale à 0.03324834398196967\n"
     ]
    }
   ],
   "source": [
    "print('La statistique de décision vaut',chi2,'. Sous H0 elle suit une loi du Chi2 à',dof, 'degrés de liberté. Ainsi la p-value est égale à', p)"
   ]
  },
  {
   "cell_type": "code",
   "execution_count": null,
   "id": "16b69fc4-b3ee-4c34-b29b-621836a7baff",
   "metadata": {},
   "outputs": [],
   "source": [
    "#EXERCICE 2 :"
   ]
  },
  {
   "cell_type": "code",
   "execution_count": 5,
   "id": "ae937690-15ef-486f-8b21-48f0d4e94cdf",
   "metadata": {},
   "outputs": [
    {
     "name": "stdout",
     "output_type": "stream",
     "text": [
      "    Manele  Manala\n",
      "0   110.40  116.98\n",
      "1   116.36  121.31\n",
      "2   117.95  131.22\n",
      "3   101.85  113.17\n",
      "4   111.10  105.62\n",
      "5   110.72  113.54\n",
      "6   124.27   94.41\n",
      "7   112.94  120.90\n",
      "8   115.86  117.82\n",
      "9   118.95  110.98\n",
      "10  107.33  113.51\n",
      "11  110.98  108.42\n",
      "12  108.64  126.06\n",
      "13  121.46  111.45\n",
      "14  100.03  105.55\n",
      "15  110.32  113.68\n",
      "16  113.88  104.18\n",
      "17  118.02  123.08\n",
      "18  107.50  105.58\n",
      "19  103.19  108.62\n",
      "20  102.06  108.17\n",
      "21  112.17  106.76\n",
      "22  107.88  109.57\n",
      "23  109.60  106.69\n",
      "24  105.53     NaN\n",
      "25  104.85     NaN\n",
      "26   96.62     NaN\n"
     ]
    }
   ],
   "source": [
    "man = pds.read_csv( \"man.csv\" , sep = \";\", decimal = \",\" )\n",
    "print(man)"
   ]
  },
  {
   "cell_type": "code",
   "execution_count": 12,
   "id": "ce19baa0-6d0e-4518-a80e-3092f105e38a",
   "metadata": {},
   "outputs": [
    {
     "name": "stdout",
     "output_type": "stream",
     "text": [
      "<class 'pandas.core.frame.DataFrame'>\n",
      "RangeIndex: 27 entries, 0 to 26\n",
      "Data columns (total 2 columns):\n",
      " #   Column  Non-Null Count  Dtype  \n",
      "---  ------  --------------  -----  \n",
      " 0   Manele  27 non-null     float64\n",
      " 1   Manala  24 non-null     float64\n",
      "dtypes: float64(2)\n",
      "memory usage: 564.0 bytes\n"
     ]
    }
   ],
   "source": [
    "man.info()"
   ]
  },
  {
   "cell_type": "code",
   "execution_count": 6,
   "id": "7a10599d-e40e-4c47-b793-219f79af6958",
   "metadata": {},
   "outputs": [],
   "source": [
    "manele = man[\"Manele\"]\n",
    "manala = man[\"Manala\"].dropna()"
   ]
  },
  {
   "cell_type": "code",
   "execution_count": 47,
   "id": "9cc5affc-1175-4bec-8304-eacae341cc02",
   "metadata": {},
   "outputs": [
    {
     "data": {
      "text/plain": [
       "DescribeResult(nobs=27, minmax=(np.float64(96.62), np.float64(124.27)), mean=np.float64(110.38740740740741), variance=np.float64(44.82071994301993), skewness=np.float64(0.0429306467729167), kurtosis=np.float64(-0.4446029513183656))"
      ]
     },
     "execution_count": 47,
     "metadata": {},
     "output_type": "execute_result"
    }
   ],
   "source": [
    "stats.describe(manele)"
   ]
  },
  {
   "cell_type": "code",
   "execution_count": 11,
   "id": "060f0330-f31c-477f-a129-6d0a943d62fd",
   "metadata": {},
   "outputs": [
    {
     "data": {
      "text/plain": [
       "np.float64(6.694827850140729)"
      ]
     },
     "execution_count": 11,
     "metadata": {},
     "output_type": "execute_result"
    }
   ],
   "source": [
    "stats.tstd(manele)"
   ]
  },
  {
   "cell_type": "code",
   "execution_count": 10,
   "id": "9e4fabaf-b748-40d4-a251-80318a121ebb",
   "metadata": {},
   "outputs": [
    {
     "data": {
      "text/plain": [
       "array([106.43, 110.4 , 114.87])"
      ]
     },
     "execution_count": 10,
     "metadata": {},
     "output_type": "execute_result"
    }
   ],
   "source": [
    "np.percentile(manele, [25, 50, 75])"
   ]
  },
  {
   "cell_type": "code",
   "execution_count": 48,
   "id": "09f29dd7-b7b4-4db7-aade-68c04910b673",
   "metadata": {},
   "outputs": [
    {
     "data": {
      "text/plain": [
       "DescribeResult(nobs=24, minmax=(np.float64(94.41), np.float64(131.22)), mean=np.float64(112.38625), variance=np.float64(65.89455489130434), skewness=np.float64(0.3458209247607714), kurtosis=np.float64(0.18728434878658273))"
      ]
     },
     "execution_count": 48,
     "metadata": {},
     "output_type": "execute_result"
    }
   ],
   "source": [
    "stats.describe(manala)"
   ]
  },
  {
   "cell_type": "code",
   "execution_count": 12,
   "id": "53fdc471-2546-42c1-9902-7dd49cdecfb2",
   "metadata": {},
   "outputs": [
    {
     "data": {
      "text/plain": [
       "np.float64(8.1175461126688)"
      ]
     },
     "execution_count": 12,
     "metadata": {},
     "output_type": "execute_result"
    }
   ],
   "source": [
    "stats.tstd(manala)"
   ]
  },
  {
   "cell_type": "code",
   "execution_count": 15,
   "id": "e651b70c-65e1-43ce-b7cf-bbd16d09d79a",
   "metadata": {},
   "outputs": [
    {
     "data": {
      "text/plain": [
       "array([106.7425, 111.215 , 117.19  ])"
      ]
     },
     "execution_count": 15,
     "metadata": {},
     "output_type": "execute_result"
    }
   ],
   "source": [
    "np.percentile(manala, [25, 50, 75])"
   ]
  },
  {
   "cell_type": "code",
   "execution_count": 19,
   "id": "67bdfb21-b133-40e9-92e8-82c45b1f05c3",
   "metadata": {},
   "outputs": [
    {
     "data": {
      "text/plain": [
       "ShapiroResult(statistic=np.float64(0.9911309616788551), pvalue=np.float64(0.9971215201499927))"
      ]
     },
     "execution_count": 19,
     "metadata": {},
     "output_type": "execute_result"
    }
   ],
   "source": [
    "stats.shapiro(manele)"
   ]
  },
  {
   "cell_type": "code",
   "execution_count": 87,
   "id": "625f8629-b0b4-45d3-aa74-bd76234d03a6",
   "metadata": {},
   "outputs": [
    {
     "data": {
      "image/png": "[encoded data removed]",
      "text/plain": [
       "<Figure size 640x480 with 1 Axes>"
      ]
     },
     "metadata": {},
     "output_type": "display_data"
    }
   ],
   "source": [
    "sm.qqplot(manele,loc=np.mean(manele) ,scale=np.std(manele), line='45')\n",
    "plt.show()"
   ]
  },
  {
   "cell_type": "code",
   "execution_count": 31,
   "id": "4b7e5de8-55f1-4a96-a05d-2c78f9b441c8",
   "metadata": {},
   "outputs": [
    {
     "data": {
      "text/plain": [
       "ShapiroResult(statistic=np.float64(0.9629412083389558), pvalue=np.float64(0.5003015467074076))"
      ]
     },
     "execution_count": 31,
     "metadata": {},
     "output_type": "execute_result"
    }
   ],
   "source": [
    "stats.shapiro(manala)"
   ]
  },
  {
   "cell_type": "code",
   "execution_count": 88,
   "id": "2e11c596-100d-4fe4-b22a-bbf8fcf050bc",
   "metadata": {},
   "outputs": [
    {
     "data": {
      "image/png": "[encoded data removed]",
      "text/plain": [
       "<Figure size 640x480 with 1 Axes>"
      ]
     },
     "metadata": {},
     "output_type": "display_data"
    }
   ],
   "source": [
    "sm.qqplot(manala,loc=np.mean(manala) ,scale=np.std(manala), line='45')\n",
    "plt.show()"
   ]
  },
  {
   "cell_type": "code",
   "execution_count": 43,
   "id": "f6032c59-92f7-48f6-ab63-c22f08e2e971",
   "metadata": {},
   "outputs": [],
   "source": [
    "def f_test(x, y) :\n",
    "    x = np.array(x)\n",
    "    y = np.array(y)\n",
    "    f = np.var(x, ddof=1)/np.var(y, ddof=1) #calcul stat d´ecision\n",
    "    dfn = x.size-1 # ddl du num´erateur\n",
    "    dfd = y.size-1 # ddl du d´enominateur\n",
    "    p = 1-stats.f.cdf(f, dfn, dfd) # calcul p-value\n",
    "    return f, p, dfn, dfd"
   ]
  },
  {
   "cell_type": "code",
   "execution_count": 44,
   "id": "ce15f136-e8c5-45dc-9da0-2aa77f698da4",
   "metadata": {},
   "outputs": [
    {
     "name": "stdout",
     "output_type": "stream",
     "text": [
      "La statistique de décision vaut 0.6801885226625094 . Sous H0, elle suit une loi de Fisher à  26 et 23 ddl. La p-value est égale à 0.829307647608173\n"
     ]
    }
   ],
   "source": [
    "f,p,dfn,dfd=f_test(manele,manala)\n",
    "print(\"La statistique de décision vaut\", f,\". Sous H0, elle suit une loi de Fisher à \", dfn, \"et\",dfd, \"ddl. La p-value est égale à\",p)"
   ]
  },
  {
   "cell_type": "code",
   "execution_count": 45,
   "id": "2c7ca159-cfd1-449b-92b8-cb9a9daa2f15",
   "metadata": {},
   "outputs": [],
   "source": [
    "t,p=stats.ttest_ind(manele,manala)"
   ]
  },
  {
   "cell_type": "code",
   "execution_count": 46,
   "id": "70756bfa-a894-4432-ae94-0937720770ba",
   "metadata": {},
   "outputs": [
    {
     "name": "stdout",
     "output_type": "stream",
     "text": [
      "La statistique de décision vaut -0.9632469680891367 . Sous H0, elle suit une loi de Student à  49 . La p-value est égale à 0.34015339113128873\n"
     ]
    }
   ],
   "source": [
    "print(\"La statistique de décision vaut\", t,\". Sous H0, elle suit une loi de Student à \", len(manele)+len(manala)-2,\". La p-value est égale à\",p)"
   ]
  },
  {
   "cell_type": "code",
   "execution_count": null,
   "id": "3a89206e-d842-4c3d-9104-f4596f691d96",
   "metadata": {},
   "outputs": [],
   "source": [
    "#EXERCICE 3 :"
   ]
  },
  {
   "cell_type": "code",
   "execution_count": 16,
   "id": "31b18f81-309b-40bf-8098-2542ab6d9739",
   "metadata": {},
   "outputs": [
    {
     "name": "stdout",
     "output_type": "stream",
     "text": [
      "    Unnamed: 0  epaisseur      pays\n",
      "0            1        263  Belgique\n",
      "1            2        259  Belgique\n",
      "2            3        246  Belgique\n",
      "3            4        255  Belgique\n",
      "4            5        260  Belgique\n",
      "..         ...        ...       ...\n",
      "84          85        197    France\n",
      "85          86        213    France\n",
      "86          87        212    France\n",
      "87          88        216    France\n",
      "88          89        215    France\n",
      "\n",
      "[89 rows x 3 columns]\n"
     ]
    }
   ],
   "source": [
    "timbres = pds.read_csv( \"timbres.csv\" , sep = \";\", decimal = \",\" )\n",
    "print(timbres)"
   ]
  },
  {
   "cell_type": "code",
   "execution_count": 17,
   "id": "2640b017-d3f0-4c01-889f-1f40e3cabd50",
   "metadata": {},
   "outputs": [
    {
     "name": "stdout",
     "output_type": "stream",
     "text": [
      "23    246\n",
      "24    255\n",
      "25    249\n",
      "26    247\n",
      "27    246\n",
      "28    257\n",
      "29    256\n",
      "30    256\n",
      "31    252\n",
      "32    261\n",
      "33    250\n",
      "34    246\n",
      "35    254\n",
      "36    261\n",
      "37    253\n",
      "38    245\n",
      "39    251\n",
      "40    258\n",
      "41    238\n",
      "Name: epaisseur, dtype: int64 42    254\n",
      "43    245\n",
      "44    246\n",
      "45    256\n",
      "46    242\n",
      "47    265\n",
      "48    244\n",
      "49    258\n",
      "50    250\n",
      "51    250\n",
      "52    259\n",
      "53    259\n",
      "54    253\n",
      "55    258\n",
      "56    248\n",
      "57    242\n",
      "58    250\n",
      "59    258\n",
      "60    244\n",
      "61    252\n",
      "62    256\n",
      "63    245\n",
      "64    258\n",
      "65    250\n",
      "66    254\n",
      "Name: epaisseur, dtype: int64 0     263\n",
      "1     259\n",
      "2     246\n",
      "3     255\n",
      "4     260\n",
      "5     258\n",
      "6     254\n",
      "7     247\n",
      "8     254\n",
      "9     255\n",
      "10    258\n",
      "11    253\n",
      "12    248\n",
      "13    262\n",
      "14    255\n",
      "15    257\n",
      "16    244\n",
      "17    237\n",
      "18    250\n",
      "19    250\n",
      "20    247\n",
      "21    247\n",
      "22    265\n",
      "Name: epaisseur, dtype: int64 67    211\n",
      "68    218\n",
      "69    230\n",
      "70    210\n",
      "71    201\n",
      "72    219\n",
      "73    221\n",
      "74    220\n",
      "75    196\n",
      "76    203\n",
      "77    211\n",
      "78    199\n",
      "79    206\n",
      "80    216\n",
      "81    205\n",
      "82    209\n",
      "83    209\n",
      "84    197\n",
      "85    213\n",
      "86    212\n",
      "87    216\n",
      "88    215\n",
      "Name: epaisseur, dtype: int64\n"
     ]
    }
   ],
   "source": [
    "Allemagne = timbres[\"epaisseur\"][timbres[\"pays\"]==\"Allemagne\"].dropna()\n",
    "Autriche = timbres[\"epaisseur\"][timbres[\"pays\"]==\"Autriche\"].dropna()\n",
    "Belgique = timbres[\"epaisseur\"][timbres[\"pays\"]==\"Belgique\"].dropna()\n",
    "France = timbres[\"epaisseur\"][timbres[\"pays\"]==\"France\"].dropna()\n",
    "print(Allemagne, Autriche, Belgique, France)"
   ]
  },
  {
   "cell_type": "code",
   "execution_count": 18,
   "id": "36dc58d2-b5a0-42e3-bc36-0b1ab33dc3e7",
   "metadata": {},
   "outputs": [
    {
     "data": {
      "text/plain": [
       "DescribeResult(nobs=19, minmax=(np.int64(238), np.int64(261)), mean=np.float64(251.6315789473684), variance=np.float64(36.578947368421055), skewness=np.float64(-0.31071599868696925), kurtosis=np.float64(-0.42427667458359686))"
      ]
     },
     "execution_count": 18,
     "metadata": {},
     "output_type": "execute_result"
    }
   ],
   "source": [
    "stats.describe(Allemagne)"
   ]
  },
  {
   "cell_type": "code",
   "execution_count": 19,
   "id": "9014a4be-5f88-4798-a0fd-588199405236",
   "metadata": {},
   "outputs": [
    {
     "data": {
      "text/plain": [
       "np.float64(6.048053188292994)"
      ]
     },
     "execution_count": 19,
     "metadata": {},
     "output_type": "execute_result"
    }
   ],
   "source": [
    "stats.tstd(Allemagne)"
   ]
  },
  {
   "cell_type": "code",
   "execution_count": 20,
   "id": "f03c0b41-6aa0-4392-b3ed-fc78a3db9a68",
   "metadata": {},
   "outputs": [
    {
     "data": {
      "text/plain": [
       "array([246.5, 252. , 256. ])"
      ]
     },
     "execution_count": 20,
     "metadata": {},
     "output_type": "execute_result"
    }
   ],
   "source": [
    "np.percentile(Allemagne, [25, 50, 75])"
   ]
  },
  {
   "cell_type": "code",
   "execution_count": 75,
   "id": "9e3aeab1-637f-4897-be7a-33c703bb1cec",
   "metadata": {},
   "outputs": [
    {
     "data": {
      "text/plain": [
       "DescribeResult(nobs=25, minmax=(np.int64(242), np.int64(265)), mean=np.float64(251.84), variance=np.float64(39.39000000000001), skewness=np.float64(0.05571239963690025), kurtosis=np.float64(-0.9365670792868732))"
      ]
     },
     "execution_count": 75,
     "metadata": {},
     "output_type": "execute_result"
    }
   ],
   "source": [
    "stats.describe(Autriche)"
   ]
  },
  {
   "cell_type": "code",
   "execution_count": 23,
   "id": "9c3cd170-92c6-4f58-add4-60a9f3143788",
   "metadata": {},
   "outputs": [
    {
     "data": {
      "text/plain": [
       "np.float64(6.276145313805283)"
      ]
     },
     "execution_count": 23,
     "metadata": {},
     "output_type": "execute_result"
    }
   ],
   "source": [
    "stats.tstd(Autriche)"
   ]
  },
  {
   "cell_type": "code",
   "execution_count": 26,
   "id": "c8bf14a0-6457-4868-a33a-28cd22581fd0",
   "metadata": {},
   "outputs": [
    {
     "data": {
      "text/plain": [
       "array([246., 252., 258.])"
      ]
     },
     "execution_count": 26,
     "metadata": {},
     "output_type": "execute_result"
    }
   ],
   "source": [
    "np.percentile(Autriche, [25, 50, 75])"
   ]
  },
  {
   "cell_type": "code",
   "execution_count": 76,
   "id": "5416bce3-15e8-4c79-bd99-5ddb76c65ea4",
   "metadata": {},
   "outputs": [
    {
     "data": {
      "text/plain": [
       "DescribeResult(nobs=23, minmax=(np.int64(237), np.int64(265)), mean=np.float64(253.2173913043478), variance=np.float64(46.63241106719368), skewness=np.float64(-0.33689318625492265), kurtosis=np.float64(-0.30250847594104346))"
      ]
     },
     "execution_count": 76,
     "metadata": {},
     "output_type": "execute_result"
    }
   ],
   "source": [
    "stats.describe(Belgique)"
   ]
  },
  {
   "cell_type": "code",
   "execution_count": 22,
   "id": "27e3943d-68a3-4179-b0d3-1c61364ca971",
   "metadata": {},
   "outputs": [
    {
     "data": {
      "text/plain": [
       "np.float64(6.828792797207547)"
      ]
     },
     "execution_count": 22,
     "metadata": {},
     "output_type": "execute_result"
    }
   ],
   "source": [
    "stats.tstd(Belgique)"
   ]
  },
  {
   "cell_type": "code",
   "execution_count": 24,
   "id": "2f63f5c8-c1a8-4f32-b94d-ba75988d3bf9",
   "metadata": {},
   "outputs": [
    {
     "data": {
      "text/plain": [
       "array([247.5, 254. , 258. ])"
      ]
     },
     "execution_count": 24,
     "metadata": {},
     "output_type": "execute_result"
    }
   ],
   "source": [
    "np.percentile(Belgique, [25, 50, 75])"
   ]
  },
  {
   "cell_type": "code",
   "execution_count": 77,
   "id": "5800a919-b3f4-4711-9976-a6800d3d4f13",
   "metadata": {},
   "outputs": [
    {
     "data": {
      "text/plain": [
       "DescribeResult(nobs=22, minmax=(np.int64(196), np.int64(230)), mean=np.float64(210.77272727272728), variance=np.float64(72.56493506493506), skewness=np.float64(0.08580712110327479), kurtosis=np.float64(-0.3354933187861082))"
      ]
     },
     "execution_count": 77,
     "metadata": {},
     "output_type": "execute_result"
    }
   ],
   "source": [
    "stats.describe(France)"
   ]
  },
  {
   "cell_type": "code",
   "execution_count": 21,
   "id": "a14c2b57-c65e-4ff9-bd79-922ee58ad32b",
   "metadata": {},
   "outputs": [
    {
     "data": {
      "text/plain": [
       "np.float64(8.518505447843246)"
      ]
     },
     "execution_count": 21,
     "metadata": {},
     "output_type": "execute_result"
    }
   ],
   "source": [
    "stats.tstd(France)"
   ]
  },
  {
   "cell_type": "code",
   "execution_count": 25,
   "id": "22ba816b-7f13-4e96-84bf-040f8c04d188",
   "metadata": {},
   "outputs": [
    {
     "data": {
      "text/plain": [
       "array([205.25, 211.  , 216.  ])"
      ]
     },
     "execution_count": 25,
     "metadata": {},
     "output_type": "execute_result"
    }
   ],
   "source": [
    "np.percentile(France, [25, 50, 75])"
   ]
  },
  {
   "cell_type": "code",
   "execution_count": 78,
   "id": "0ea1a038-5026-4e5b-a1f6-318abe628d73",
   "metadata": {},
   "outputs": [
    {
     "data": {
      "text/plain": [
       "ShapiroResult(statistic=np.float64(0.9658387921312277), pvalue=np.float64(0.6912453962181222))"
      ]
     },
     "execution_count": 78,
     "metadata": {},
     "output_type": "execute_result"
    }
   ],
   "source": [
    "stats.shapiro(Allemagne)"
   ]
  },
  {
   "cell_type": "code",
   "execution_count": 89,
   "id": "af83c7a5-dc74-49ac-a687-5dac128acade",
   "metadata": {},
   "outputs": [
    {
     "data": {
      "image/png": "[encoded data removed]",
      "text/plain": [
       "<Figure size 640x480 with 1 Axes>"
      ]
     },
     "metadata": {},
     "output_type": "display_data"
    }
   ],
   "source": [
    "sm.qqplot(Allemagne,loc=np.mean(Allemagne) ,scale=np.std(Allemagne), line='45')\n",
    "plt.show()"
   ]
  },
  {
   "cell_type": "code",
   "execution_count": 79,
   "id": "8e235148-eb36-46fc-ac4c-6c0f425c8620",
   "metadata": {},
   "outputs": [
    {
     "data": {
      "text/plain": [
       "ShapiroResult(statistic=np.float64(0.9515972835214007), pvalue=np.float64(0.2723113861861385))"
      ]
     },
     "execution_count": 79,
     "metadata": {},
     "output_type": "execute_result"
    }
   ],
   "source": [
    "stats.shapiro(Autriche)"
   ]
  },
  {
   "cell_type": "code",
   "execution_count": 90,
   "id": "e33f079d-76a0-406b-bbff-06b16b5e6352",
   "metadata": {},
   "outputs": [
    {
     "data": {
      "image/png": "[encoded data removed]",
      "text/plain": [
       "<Figure size 640x480 with 1 Axes>"
      ]
     },
     "metadata": {},
     "output_type": "display_data"
    }
   ],
   "source": [
    "sm.qqplot(Autriche,loc=np.mean(Autriche) ,scale=np.std(Autriche), line='45')\n",
    "plt.show()"
   ]
  },
  {
   "cell_type": "code",
   "execution_count": 80,
   "id": "b524dd83-9e56-4821-9f14-9302b59c89ca",
   "metadata": {},
   "outputs": [
    {
     "data": {
      "text/plain": [
       "ShapiroResult(statistic=np.float64(0.9751114742862492), pvalue=np.float64(0.8086314188071548))"
      ]
     },
     "execution_count": 80,
     "metadata": {},
     "output_type": "execute_result"
    }
   ],
   "source": [
    "stats.shapiro(Belgique)"
   ]
  },
  {
   "cell_type": "code",
   "execution_count": 91,
   "id": "bbab5ece-9637-4b6a-8e15-563c8a70db5a",
   "metadata": {},
   "outputs": [
    {
     "data": {
      "image/png": "[encoded data removed]",
      "text/plain": [
       "<Figure size 640x480 with 1 Axes>"
      ]
     },
     "metadata": {},
     "output_type": "display_data"
    }
   ],
   "source": [
    "sm.qqplot(Belgique,loc=np.mean(Belgique) ,scale=np.std(Belgique), line='45')\n",
    "plt.show()"
   ]
  },
  {
   "cell_type": "code",
   "execution_count": 81,
   "id": "048c0bc9-2061-4e7a-bb2c-549726250c2c",
   "metadata": {},
   "outputs": [
    {
     "data": {
      "text/plain": [
       "ShapiroResult(statistic=np.float64(0.9797892030679134), pvalue=np.float64(0.9126663571980171))"
      ]
     },
     "execution_count": 81,
     "metadata": {},
     "output_type": "execute_result"
    }
   ],
   "source": [
    "stats.shapiro(France)"
   ]
  },
  {
   "cell_type": "code",
   "execution_count": 92,
   "id": "9877e921-55fd-4cad-b6d4-dc90bad3ba63",
   "metadata": {},
   "outputs": [
    {
     "data": {
      "image/png": "[encoded data removed]",
      "text/plain": [
       "<Figure size 640x480 with 1 Axes>"
      ]
     },
     "metadata": {},
     "output_type": "display_data"
    }
   ],
   "source": [
    "sm.qqplot(France,loc=np.mean(France) ,scale=np.std(France), line='45')\n",
    "plt.show()"
   ]
  },
  {
   "cell_type": "code",
   "execution_count": 83,
   "id": "165735b7-f137-4c7f-b67c-7bd547cf5a60",
   "metadata": {},
   "outputs": [
    {
     "name": "stdout",
     "output_type": "stream",
     "text": [
      "La statistique de décision est égale à 5.525752989353395 . La p-value est 0.1371063916973415\n"
     ]
    }
   ],
   "source": [
    "B,p=stats.bartlett(Allemagne,Autriche,Belgique,France)\n",
    "print(\"La statistique de décision est égale à\", B,\". La p-value est\",p )"
   ]
  },
  {
   "cell_type": "code",
   "execution_count": 82,
   "id": "2602bc9b-afed-4919-bf63-ecb7d536c1c9",
   "metadata": {},
   "outputs": [
    {
     "data": {
      "text/html": [
       "<div>\n",
       "<style scoped>\n",
       "    .dataframe tbody tr th:only-of-type {\n",
       "        vertical-align: middle;\n",
       "    }\n",
       "\n",
       "    .dataframe tbody tr th {\n",
       "        vertical-align: top;\n",
       "    }\n",
       "\n",
       "    .dataframe thead th {\n",
       "        text-align: right;\n",
       "    }\n",
       "</style>\n",
       "<table border=\"1\" class=\"dataframe\">\n",
       "  <thead>\n",
       "    <tr style=\"text-align: right;\">\n",
       "      <th></th>\n",
       "      <th>sum_sq</th>\n",
       "      <th>df</th>\n",
       "      <th>F</th>\n",
       "      <th>PR(&gt;F)</th>\n",
       "    </tr>\n",
       "  </thead>\n",
       "  <tbody>\n",
       "    <tr>\n",
       "      <th>pays</th>\n",
       "      <td>28530.442268</td>\n",
       "      <td>3.0</td>\n",
       "      <td>194.619308</td>\n",
       "      <td>5.824759e-38</td>\n",
       "    </tr>\n",
       "    <tr>\n",
       "      <th>Residual</th>\n",
       "      <td>4153.557732</td>\n",
       "      <td>85.0</td>\n",
       "      <td>NaN</td>\n",
       "      <td>NaN</td>\n",
       "    </tr>\n",
       "  </tbody>\n",
       "</table>\n",
       "</div>"
      ],
      "text/plain": [
       "                sum_sq    df           F        PR(>F)\n",
       "pays      28530.442268   3.0  194.619308  5.824759e-38\n",
       "Residual   4153.557732  85.0         NaN           NaN"
      ]
     },
     "execution_count": 82,
     "metadata": {},
     "output_type": "execute_result"
    }
   ],
   "source": [
    "model = ols('epaisseur ~ pays', data=timbres).fit()\n",
    "aov_table = sm.stats.anova_lm(model, typ=2)\n",
    "aov_table"
   ]
  },
  {
   "cell_type": "code",
   "execution_count": 69,
   "id": "b34908dc-546d-4d1d-936c-e8ed8eebb1a6",
   "metadata": {},
   "outputs": [
    {
     "data": {
      "text/plain": [
       "ShapiroResult(statistic=np.float64(0.989752239477237), pvalue=np.float64(0.7196596004661687))"
      ]
     },
     "execution_count": 69,
     "metadata": {},
     "output_type": "execute_result"
    }
   ],
   "source": [
    "stats.shapiro(model.resid)"
   ]
  },
  {
   "cell_type": "code",
   "execution_count": 95,
   "id": "1231bccb-82ac-4e23-9bb0-56ae2e63775e",
   "metadata": {},
   "outputs": [
    {
     "name": "stdout",
     "output_type": "stream",
     "text": [
      " Multiple Comparison of Means - Tukey HSD, FWER=0.05  \n",
      "======================================================\n",
      "group1 group2 meandiff p-adj   lower    upper   reject\n",
      "------------------------------------------------------\n",
      "     0      1   0.2084 0.9997   -5.367   5.7839  False\n",
      "     0      2   1.5858 0.8841  -4.0933    7.265  False\n",
      "     0      3 -40.8589    0.0 -46.5961 -35.1216   True\n",
      "     1      2   1.3774 0.9037  -3.9154   6.6702  False\n",
      "     1      3 -41.0673    0.0 -46.4224 -35.7122   True\n",
      "     2      3 -42.4447    0.0 -47.9077 -36.9817   True\n",
      "------------------------------------------------------\n"
     ]
    },
    {
     "data": {
      "image/png": "[encoded data removed]",
      "text/plain": [
       "<Figure size 1000x600 with 1 Axes>"
      ]
     },
     "metadata": {},
     "output_type": "display_data"
    }
   ],
   "source": [
    "test = timbres.filter(items=[\"pays\", \"epaisseur\"]).dropna()\n",
    "test[\"pays_code\"] = pds.Categorical(test[\"pays\"]).codes\n",
    "comp = mc.MultiComparison(test[\"epaisseur\"], test[\"pays_code\"])\n",
    "post_hoc_res = comp.tukeyhsd()\n",
    "print(post_hoc_res)\n",
    "\n",
    "post_hoc_res.plot_simultaneous(ylabel=\"pays\", xlabel=\"epaisseur\")\n",
    "plt.show()"
   ]
  },
  {
   "cell_type": "code",
   "execution_count": 98,
   "id": "f2a3351b-c971-4ff6-b22d-00749fee62b3",
   "metadata": {},
   "outputs": [
    {
     "name": "stdout",
     "output_type": "stream",
     "text": [
      "Test Multiple Comparison ttest_ind \n",
      "FWER=0.05 method=bonf\n",
      "alphacSidak=0.01, alphacBonf=0.008\n",
      "==================================================\n",
      "  group1   group2    stat   pval  pval_corr reject\n",
      "--------------------------------------------------\n",
      "Allemagne Autriche -0.1108 0.9123       1.0  False\n",
      "Allemagne Belgique -0.7883 0.4352       1.0  False\n",
      "Allemagne   France 17.4405    0.0       0.0   True\n",
      " Autriche Belgique -0.7282 0.4702       1.0  False\n",
      " Autriche   France 18.9651    0.0       0.0   True\n",
      " Belgique   France 18.4831    0.0       0.0   True\n",
      "--------------------------------------------------\n"
     ]
    }
   ],
   "source": [
    "test = timbres.filter(items=[\"pays\", \"epaisseur\"]).dropna()\n",
    "comp = mc.MultiComparison(test[\"epaisseur\"], test[\"pays\"])\n",
    "tbl, a, b = comp.allpairtest(stats.ttest_ind, method=\"bonf\")\n",
    "print(tbl)"
   ]
  }
 ],
 "metadata": {
  "kernelspec": {
   "display_name": "Python 3 (ipykernel)",
   "language": "python",
   "name": "python3"
  },
  "language_info": {
   "codemirror_mode": {
    "name": "ipython",
    "version": 3
   },
   "file_extension": ".py",
   "mimetype": "text/x-python",
   "name": "python",
   "nbconvert_exporter": "python",
   "pygments_lexer": "ipython3",
   "version": "3.13.1"
  }
 },
 "nbformat": 4,
 "nbformat_minor": 5
}
